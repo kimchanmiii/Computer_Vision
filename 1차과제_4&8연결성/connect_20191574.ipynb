{
 "cells": [
  {
   "cell_type": "markdown",
   "metadata": {
    "id": "VbDUdpGA2b5t"
   },
   "source": [
    "컴퓨터 비전 1차 과제\n",
    "- 과제 기한: 10월 18일 자정\n",
    "\n",
    "- 과제명: 주어진 영상을 일고 4연결성/8연결성을 이용하여 영상을 라벨링하여 색칠하기\n",
    "\n",
    "- 제출방법: colab에서 프로그램을 작성한 후 \" .py\" 확장자로 다운로드하여 가상대학에 제출하시기 바람\n",
    "\n",
    "- 파일명: 학번.py\n",
    "\n",
    "- 과제 제출 기한을 반드시 지키고, 이후에 제출시 감정\n",
    "\n"
   ]
  },
  {
   "cell_type": "markdown",
   "metadata": {
    "id": "fXQJSTk928SW"
   },
   "source": [
    "Python 버전 확인"
   ]
  },
  {
   "cell_type": "code",
   "execution_count": null,
   "metadata": {
    "colab": {
     "base_uri": "https://localhost:8080/"
    },
    "id": "cEvYjzu826Bk",
    "outputId": "cbbea59d-c9ac-4ec9-918d-727295632279"
   },
   "outputs": [
    {
     "name": "stdout",
     "output_type": "stream",
     "text": [
      "Python 3.7.12\n"
     ]
    }
   ],
   "source": [
    "!python --version"
   ]
  },
  {
   "cell_type": "code",
   "execution_count": null,
   "metadata": {
    "colab": {
     "base_uri": "https://localhost:8080/",
     "height": 36
    },
    "id": "qRTjP_FB3Ek8",
    "outputId": "5a9ac0f2-a1d8-4f0c-85a5-bf87f7409926"
   },
   "outputs": [
    {
     "data": {
      "application/vnd.google.colaboratory.intrinsic+json": {
       "type": "string"
      },
      "text/plain": [
       "'4.1.2'"
      ]
     },
     "execution_count": 2,
     "metadata": {},
     "output_type": "execute_result"
    }
   ],
   "source": [
    "import numpy as np\n",
    "import cv2\n",
    "import matplotlib.pyplot as plt\n",
    "cv2.__version__"
   ]
  },
  {
   "cell_type": "markdown",
   "metadata": {
    "id": "aLOemSdg4OZI"
   },
   "source": [
    "이미지 다운로드"
   ]
  },
  {
   "cell_type": "code",
   "execution_count": null,
   "metadata": {
    "colab": {
     "base_uri": "https://localhost:8080/"
    },
    "id": "uz8ywQqn4Ppd",
    "outputId": "cd9505f8-e242-4778-c9d9-8b3d62e19965"
   },
   "outputs": [
    {
     "name": "stdout",
     "output_type": "stream",
     "text": [
      "--2021-10-18 06:28:24--  https://i.imgur.com/iWGMlJR.png\n",
      "Resolving i.imgur.com (i.imgur.com)... 151.101.40.193\n",
      "Connecting to i.imgur.com (i.imgur.com)|151.101.40.193|:443... connected.\n",
      "HTTP request sent, awaiting response... 200 OK\n",
      "Length: 491 [image/png]\n",
      "Saving to: ‘iWGMlJR.png’\n",
      "\n",
      "iWGMlJR.png         100%[===================>]     491  --.-KB/s    in 0s      \n",
      "\n",
      "2021-10-18 06:28:25 (22.6 MB/s) - ‘iWGMlJR.png’ saved [491/491]\n",
      "\n"
     ]
    }
   ],
   "source": [
    "!wget https://i.imgur.com/iWGMlJR.png\n",
    "!mv iWGMlJR.png sample.png"
   ]
  },
  {
   "cell_type": "code",
   "execution_count": null,
   "metadata": {
    "colab": {
     "base_uri": "https://localhost:8080/",
     "height": 261
    },
    "id": "SWbAraUu4Tvj",
    "outputId": "00c1cd3a-e8fc-4af3-fe8e-53874d2c732a"
   },
   "outputs": [
    {
     "data": {
      "image/png": "[encoded data removed]",
      "text/plain": [
       "<Figure size 432x288 with 1 Axes>"
      ]
     },
     "metadata": {
      "needs_background": "light"
     },
     "output_type": "display_data"
    }
   ],
   "source": [
    "img = cv2.imread('sample.png')\n",
    "\n",
    "# image 출력\n",
    "plt.imshow(img)\n",
    "plt.show()"
   ]
  },
  {
   "cell_type": "markdown",
   "metadata": {
    "id": "lfzdRBGd3Sph"
   },
   "source": [
    "# 4연결성과 8연결성 라벨링 출력 예시\n",
    "## 숫자로 표시\n",
    "![alt text](https://i.imgur.com/lQ9nXox.png)\n",
    "## 색상으로 표시\n",
    "![alt text](https://i.imgur.com/91M3MwP.png)"
   ]
  },
  {
   "cell_type": "markdown",
   "metadata": {
    "id": "1UOtF5SA3Y5R"
   },
   "source": [
    "# 과제1: 4연결성 라벨링\n",
    "\n",
    "- 위의 4연결성(4-neighbors) 라벨링과 같이 숫자 또는 색을 이용하여 라벨링하시오.\n",
    "- cf. 색의 종류에는 제한이 없고, 연결된 픽셀은 같은 숫자 또는 같은 색을 가져야함."
   ]
  },
  {
   "cell_type": "code",
   "execution_count": 52,
   "metadata": {
    "id": "8f7B9imX3xfd"
   },
   "outputs": [],
   "source": [
    "def four_connect(img):\n",
    "    # 함수 작성\n",
    "    height, width = img.shape\n",
    "    print(height, width)\n",
    "    label = 0\n",
    "    k = np.zeros((height, width))\n",
    "    for i in range(0, height):\n",
    "      for j in range(0, width):\n",
    "        if img[i][j] == 0:\n",
    "          k[i][j] = 0\n",
    "        else:\n",
    "          k[i][j] = -1\n",
    "    for i in range(0, height):\n",
    "      k[i][0] = 0\n",
    "      k[i][width-1] = 0\n",
    "    for j in range(0, width):\n",
    "      k[0][j] = 0\n",
    "      k[height-1][j] = 0\n",
    "    for i in range(1, width - 1):\n",
    "      for j in range(1, height - 1):\n",
    "        if k[j][i] == -1:\n",
    "          label += 1\n",
    "          flood_fill4(k, j, i, label)\n",
    "    \n",
    "    print('라벨의 개수는:', label)\n",
    "    return k\n",
    "\n",
    "def flood_fill4(k, j, i, label):\n",
    "  if k[j][i] == -1:\n",
    "    k[j][i] = label\n",
    "    flood_fill4(k, j, i+1, label)\n",
    "    flood_fill4(k, j, i-1, label)\n",
    "    flood_fill4(k, j-1, i, label)\n",
    "    flood_fill4(k, j+1, i, label)"
   ]
  },
  {
   "cell_type": "code",
   "execution_count": 53,
   "metadata": {
    "colab": {
     "base_uri": "https://localhost:8080/",
     "height": 278
    },
    "id": "YwNzK5Lk3mA9",
    "outputId": "1ab627fc-b552-4b31-b509-625670b41e20"
   },
   "outputs": [
    {
     "name": "stdout",
     "output_type": "stream",
     "text": [
      "250 400\n",
      "라벨의 개수는: 81\n"
     ]
    },
    {
     "data": {
      "image/png": "[encoded data removed]",
      "text/plain": [
       "<Figure size 432x288 with 1 Axes>"
      ]
     },
     "metadata": {},
     "output_type": "display_data"
    }
   ],
   "source": [
    "img = cv2.imread('sample.png')\n",
    "\n",
    "img2 = img[:,:,0]\n",
    "labeled_img = four_connect(img2)\n",
    "\n",
    "# image 출력\n",
    "plt.imshow(labeled_img)\n",
    "plt.grid(None)\n",
    "plt.xticks([])\n",
    "plt.yticks([])\n",
    "plt.show()"
   ]
  },
  {
   "cell_type": "markdown",
   "metadata": {
    "id": "syUc3zn33_Gn"
   },
   "source": [
    "과제2: 8연결성 라벨링\n",
    "- 위의 8연결성(8-neighbors) 라벨링과 같이 숫자 또는 색을 이용하여 라벨링하시오.\n",
    "- cf. 색의 종류에는 제한이 없고, 연결된 픽셀은 같은 숫자 또는 같은 색을 가져야함.-"
   ]
  },
  {
   "cell_type": "code",
   "execution_count": 25,
   "metadata": {
    "id": "UK1btumy4FXp"
   },
   "outputs": [],
   "source": [
    "def eight_connect(img):\n",
    "    # 함수 작성\n",
    "    height, width = img.shape\n",
    "    k = np.zeros((height, width))\n",
    "    label = 0\n",
    "    for i in range(0, height):\n",
    "      for j in range(0, width):\n",
    "        if img[i][j] == 0:\n",
    "          k[i][j] = 0\n",
    "        else:\n",
    "          k[i][j] = -1\n",
    "    for j in range(0, height):\n",
    "      k[j][0] = 0\n",
    "      k[j][width-1] = 0\n",
    "    for i in range(0, width):\n",
    "      k[0][i] = 0\n",
    "      k[height-1][i] = 0\n",
    "    for i in range(1, width - 1):\n",
    "      for j in range(1, height - 1):\n",
    "        if k[j][i] == -1:\n",
    "          label += 1\n",
    "          flood_fill8(k, j, i, label)\n",
    "    \n",
    "    print('라벨의 개수는:', label)\n",
    "    return k\n",
    "\n",
    "def flood_fill8(k, j, i, label):\n",
    "  if k[j][i] == -1:\n",
    "    k[j][i] = label\n",
    "    flood_fill8(k, j, i+1, label)\n",
    "    flood_fill8(k, j-1, i, label)\n",
    "    flood_fill8(k, j, i-1, label)\n",
    "    flood_fill8(k, j+1, i, label)\n",
    "    flood_fill8(k, j+1, i+1, label)\n",
    "    flood_fill8(k, j+1, i-1, label)\n",
    "    flood_fill8(k, j-1, i+1, label)\n",
    "    flood_fill8(k, j-1, i-1, label)"
   ]
  },
  {
   "cell_type": "code",
   "execution_count": 26,
   "metadata": {
    "colab": {
     "base_uri": "https://localhost:8080/",
     "height": 261
    },
    "id": "-65ea1Kx4JND",
    "outputId": "232882bf-9a43-465a-d6ba-376eba59b454"
   },
   "outputs": [
    {
     "name": "stdout",
     "output_type": "stream",
     "text": [
      "라벨의 개수는: 3\n"
     ]
    },
    {
     "data": {
      "image/png": "[encoded data removed]",
      "text/plain": [
       "<Figure size 432x288 with 1 Axes>"
      ]
     },
     "metadata": {},
     "output_type": "display_data"
    }
   ],
   "source": [
    "img = cv2.imread('sample.png')\n",
    "\n",
    "img3 = img[:,:,0]\n",
    "labeled_img = eight_connect(img3)\n",
    "\n",
    "# image 출력\n",
    "plt.imshow(labeled_img)\n",
    "plt.grid(None)   \n",
    "plt.xticks([])\n",
    "plt.yticks([])\n",
    "plt.show()"
   ]
  }
 ],
 "metadata": {
  "colab": {
   "collapsed_sections": [],
   "name": "20191574.ipynb",
   "provenance": []
  },
  "kernelspec": {
   "display_name": "Python 3",
   "language": "python",
   "name": "python3"
  },
  "language_info": {
   "codemirror_mode": {
    "name": "ipython",
    "version": 3
   },
   "file_extension": ".py",
   "mimetype": "text/x-python",
   "name": "python",
   "nbconvert_exporter": "python",
   "pygments_lexer": "ipython3",
   "version": "3.7.4"
  }
 },
 "nbformat": 4,
 "nbformat_minor": 1
}
